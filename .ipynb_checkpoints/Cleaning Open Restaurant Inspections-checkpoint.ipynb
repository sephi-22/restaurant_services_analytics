{
 "cells": [
  {
   "cell_type": "code",
   "execution_count": 1,
   "id": "11a85b50",
   "metadata": {},
   "outputs": [],
   "source": [
    "import pandas as pd\n",
    "import numpy as np\n",
    "import html\n",
    "import matplotlib as plt\n",
    "pd.set_option('display.max_columns', None)"
   ]
  },
  {
   "cell_type": "code",
   "execution_count": 2,
   "id": "786ce776",
   "metadata": {},
   "outputs": [],
   "source": [
    "inspections_df = pd.read_csv(\"./data_csvs/currentOpenInspections.csv\")"
   ]
  },
  {
   "cell_type": "code",
   "execution_count": 3,
   "id": "dceff956",
   "metadata": {},
   "outputs": [
    {
     "data": {
      "text/html": [
       "<div>\n",
       "<style scoped>\n",
       "    .dataframe tbody tr th:only-of-type {\n",
       "        vertical-align: middle;\n",
       "    }\n",
       "\n",
       "    .dataframe tbody tr th {\n",
       "        vertical-align: top;\n",
       "    }\n",
       "\n",
       "    .dataframe thead th {\n",
       "        text-align: right;\n",
       "    }\n",
       "</style>\n",
       "<table border=\"1\" class=\"dataframe\">\n",
       "  <thead>\n",
       "    <tr style=\"text-align: right;\">\n",
       "      <th></th>\n",
       "      <th>Borough</th>\n",
       "      <th>RestaurantName</th>\n",
       "      <th>SeatingChoice</th>\n",
       "      <th>LegalBusinessName</th>\n",
       "      <th>BusinessAddress</th>\n",
       "      <th>RestaurantInspectionID</th>\n",
       "      <th>IsSidewayCompliant</th>\n",
       "      <th>IsRoadwayCompliant</th>\n",
       "      <th>SkippedReason</th>\n",
       "      <th>InspectedOn</th>\n",
       "      <th>AgencyCode</th>\n",
       "      <th>Postcode</th>\n",
       "      <th>Latitude</th>\n",
       "      <th>Longitude</th>\n",
       "      <th>CommunityBoard</th>\n",
       "      <th>CouncilDistrict</th>\n",
       "      <th>CensusTract</th>\n",
       "      <th>BIN</th>\n",
       "      <th>BBL</th>\n",
       "      <th>NTA</th>\n",
       "    </tr>\n",
       "  </thead>\n",
       "  <tbody>\n",
       "    <tr>\n",
       "      <th>0</th>\n",
       "      <td>Manhattan</td>\n",
       "      <td>Oscar Wilde</td>\n",
       "      <td>both</td>\n",
       "      <td>Camelot Castle LLC</td>\n",
       "      <td>45  West 27th st</td>\n",
       "      <td>72891</td>\n",
       "      <td>NaN</td>\n",
       "      <td>Non-Compliant</td>\n",
       "      <td>NaN</td>\n",
       "      <td>12/20/2021 04:06:58 PM</td>\n",
       "      <td>DOT</td>\n",
       "      <td>10001</td>\n",
       "      <td>40.744876</td>\n",
       "      <td>-73.989657</td>\n",
       "      <td>5.0</td>\n",
       "      <td>3.0</td>\n",
       "      <td>58.0</td>\n",
       "      <td>1015677.0</td>\n",
       "      <td>1.008290e+09</td>\n",
       "      <td>Hudson Yards-Chelsea-Flatiron-Union Square</td>\n",
       "    </tr>\n",
       "    <tr>\n",
       "      <th>1</th>\n",
       "      <td>Manhattan</td>\n",
       "      <td>LA RUBIA RESTAURANT</td>\n",
       "      <td>both</td>\n",
       "      <td>LA RUBIA RESTAURANT INC</td>\n",
       "      <td>3517 BROADWAY</td>\n",
       "      <td>72892</td>\n",
       "      <td>NaN</td>\n",
       "      <td>For HIQA Review</td>\n",
       "      <td>NaN</td>\n",
       "      <td>12/20/2021 04:18:42 PM</td>\n",
       "      <td>DOT</td>\n",
       "      <td>10031</td>\n",
       "      <td>40.825863</td>\n",
       "      <td>-73.950874</td>\n",
       "      <td>9.0</td>\n",
       "      <td>7.0</td>\n",
       "      <td>229.0</td>\n",
       "      <td>1062369.0</td>\n",
       "      <td>1.020910e+09</td>\n",
       "      <td>Hamilton Heights</td>\n",
       "    </tr>\n",
       "    <tr>\n",
       "      <th>2</th>\n",
       "      <td>Manhattan</td>\n",
       "      <td>Thai Sliders</td>\n",
       "      <td>sidewalk</td>\n",
       "      <td>Silom Thai Inc</td>\n",
       "      <td>150   8th Ave</td>\n",
       "      <td>72893</td>\n",
       "      <td>NaN</td>\n",
       "      <td>Non-Compliant</td>\n",
       "      <td>NaN</td>\n",
       "      <td>12/20/2021 04:35:41 PM</td>\n",
       "      <td>DOT</td>\n",
       "      <td>10011</td>\n",
       "      <td>40.741906</td>\n",
       "      <td>-74.000945</td>\n",
       "      <td>4.0</td>\n",
       "      <td>3.0</td>\n",
       "      <td>81.0</td>\n",
       "      <td>1013845.0</td>\n",
       "      <td>1.007670e+09</td>\n",
       "      <td>Hudson Yards-Chelsea-Flatiron-Union Square</td>\n",
       "    </tr>\n",
       "    <tr>\n",
       "      <th>3</th>\n",
       "      <td>Brooklyn</td>\n",
       "      <td>Otway</td>\n",
       "      <td>both</td>\n",
       "      <td>St james 930 LLC</td>\n",
       "      <td>930 Fulton street</td>\n",
       "      <td>72894</td>\n",
       "      <td>NaN</td>\n",
       "      <td>Cease and Desist</td>\n",
       "      <td>NaN</td>\n",
       "      <td>12/20/2021 04:38:45 PM</td>\n",
       "      <td>DOT</td>\n",
       "      <td>11238</td>\n",
       "      <td>40.682833</td>\n",
       "      <td>-73.963833</td>\n",
       "      <td>2.0</td>\n",
       "      <td>35.0</td>\n",
       "      <td>201.0</td>\n",
       "      <td>3335112.0</td>\n",
       "      <td>3.020130e+09</td>\n",
       "      <td>Clinton Hill</td>\n",
       "    </tr>\n",
       "    <tr>\n",
       "      <th>4</th>\n",
       "      <td>Brooklyn</td>\n",
       "      <td>WILLIAMSBURG THAI CUISINE</td>\n",
       "      <td>both</td>\n",
       "      <td>WILLIAMSBURG THAI CUISINE NY INC</td>\n",
       "      <td>212 BEDFORD AVENUE</td>\n",
       "      <td>72896</td>\n",
       "      <td>NaN</td>\n",
       "      <td>Compliant</td>\n",
       "      <td>NaN</td>\n",
       "      <td>12/20/2021 04:52:41 PM</td>\n",
       "      <td>DOT</td>\n",
       "      <td>11249</td>\n",
       "      <td>40.716913</td>\n",
       "      <td>-73.958728</td>\n",
       "      <td>1.0</td>\n",
       "      <td>33.0</td>\n",
       "      <td>553.0</td>\n",
       "      <td>3062192.0</td>\n",
       "      <td>3.023350e+09</td>\n",
       "      <td>North Side-South Side</td>\n",
       "    </tr>\n",
       "  </tbody>\n",
       "</table>\n",
       "</div>"
      ],
      "text/plain": [
       "     Borough             RestaurantName SeatingChoice  \\\n",
       "0  Manhattan                Oscar Wilde          both   \n",
       "1  Manhattan        LA RUBIA RESTAURANT          both   \n",
       "2  Manhattan               Thai Sliders      sidewalk   \n",
       "3   Brooklyn                      Otway          both   \n",
       "4   Brooklyn  WILLIAMSBURG THAI CUISINE          both   \n",
       "\n",
       "                  LegalBusinessName     BusinessAddress  \\\n",
       "0                Camelot Castle LLC    45  West 27th st   \n",
       "1           LA RUBIA RESTAURANT INC       3517 BROADWAY   \n",
       "2                    Silom Thai Inc       150   8th Ave   \n",
       "3                  St james 930 LLC   930 Fulton street   \n",
       "4  WILLIAMSBURG THAI CUISINE NY INC  212 BEDFORD AVENUE   \n",
       "\n",
       "   RestaurantInspectionID  IsSidewayCompliant IsRoadwayCompliant  \\\n",
       "0                   72891                 NaN      Non-Compliant   \n",
       "1                   72892                 NaN    For HIQA Review   \n",
       "2                   72893                 NaN      Non-Compliant   \n",
       "3                   72894                 NaN   Cease and Desist   \n",
       "4                   72896                 NaN          Compliant   \n",
       "\n",
       "  SkippedReason             InspectedOn AgencyCode  Postcode   Latitude  \\\n",
       "0           NaN  12/20/2021 04:06:58 PM        DOT     10001  40.744876   \n",
       "1           NaN  12/20/2021 04:18:42 PM        DOT     10031  40.825863   \n",
       "2           NaN  12/20/2021 04:35:41 PM        DOT     10011  40.741906   \n",
       "3           NaN  12/20/2021 04:38:45 PM        DOT     11238  40.682833   \n",
       "4           NaN  12/20/2021 04:52:41 PM        DOT     11249  40.716913   \n",
       "\n",
       "   Longitude  CommunityBoard  CouncilDistrict  CensusTract        BIN  \\\n",
       "0 -73.989657             5.0              3.0         58.0  1015677.0   \n",
       "1 -73.950874             9.0              7.0        229.0  1062369.0   \n",
       "2 -74.000945             4.0              3.0         81.0  1013845.0   \n",
       "3 -73.963833             2.0             35.0        201.0  3335112.0   \n",
       "4 -73.958728             1.0             33.0        553.0  3062192.0   \n",
       "\n",
       "            BBL                                         NTA  \n",
       "0  1.008290e+09  Hudson Yards-Chelsea-Flatiron-Union Square  \n",
       "1  1.020910e+09                            Hamilton Heights  \n",
       "2  1.007670e+09  Hudson Yards-Chelsea-Flatiron-Union Square  \n",
       "3  3.020130e+09                                Clinton Hill  \n",
       "4  3.023350e+09                       North Side-South Side  "
      ]
     },
     "execution_count": 3,
     "metadata": {},
     "output_type": "execute_result"
    }
   ],
   "source": [
    "inspections_df.head()"
   ]
  },
  {
   "cell_type": "code",
   "execution_count": 4,
   "id": "9635c8f3",
   "metadata": {},
   "outputs": [
    {
     "data": {
      "text/plain": [
       "No Seating               15723\n",
       "Sidewalk Seating Only     3619\n",
       "Open Street Location       339\n",
       "On Private Property        185\n",
       "Name: SkippedReason, dtype: int64"
      ]
     },
     "execution_count": 4,
     "metadata": {},
     "output_type": "execute_result"
    }
   ],
   "source": [
    "inspections_df['SkippedReason'].value_counts()"
   ]
  },
  {
   "cell_type": "code",
   "execution_count": 5,
   "id": "768c6b16",
   "metadata": {},
   "outputs": [
    {
     "data": {
      "text/plain": [
       "Skipped Inspection           19866\n",
       "Compliant                    16077\n",
       "Non-Compliant                15858\n",
       "Cease and Desist              9309\n",
       "Reset                         6969\n",
       "For HIQA Review               4495\n",
       "Under Review                  2196\n",
       "Pre-Suspension                1667\n",
       "Suspended and Deactivated     1590\n",
       "Removed and Deactivated        460\n",
       "Pre-Removal                    390\n",
       "Marked For Removal             326\n",
       "Name: IsRoadwayCompliant, dtype: int64"
      ]
     },
     "execution_count": 5,
     "metadata": {},
     "output_type": "execute_result"
    }
   ],
   "source": [
    "inspections_df['IsRoadwayCompliant'].value_counts()"
   ]
  },
  {
   "cell_type": "code",
   "execution_count": 6,
   "id": "2835cfd8",
   "metadata": {},
   "outputs": [
    {
     "data": {
      "text/plain": [
       "Series([], Name: IsSidewayCompliant, dtype: int64)"
      ]
     },
     "execution_count": 6,
     "metadata": {},
     "output_type": "execute_result"
    }
   ],
   "source": [
    "inspections_df['IsSidewayCompliant'].value_counts()"
   ]
  },
  {
   "cell_type": "code",
   "execution_count": null,
   "id": "6af35af8",
   "metadata": {},
   "outputs": [],
   "source": []
  }
 ],
 "metadata": {
  "kernelspec": {
   "display_name": "Python 3 (ipykernel)",
   "language": "python",
   "name": "python3"
  },
  "language_info": {
   "codemirror_mode": {
    "name": "ipython",
    "version": 3
   },
   "file_extension": ".py",
   "mimetype": "text/x-python",
   "name": "python",
   "nbconvert_exporter": "python",
   "pygments_lexer": "ipython3",
   "version": "3.10.9"
  }
 },
 "nbformat": 4,
 "nbformat_minor": 5
}
