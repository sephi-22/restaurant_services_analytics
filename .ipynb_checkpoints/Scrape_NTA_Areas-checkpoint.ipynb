{
 "cells": [
  {
   "cell_type": "code",
   "execution_count": 44,
   "id": "3e3a812c",
   "metadata": {},
   "outputs": [],
   "source": [
    "from bs4 import BeautifulSoup\n",
    "import requests\n",
    "import pandas as pd\n",
    "import csv\n",
    "import time\n",
    "import re"
   ]
  },
  {
   "cell_type": "code",
   "execution_count": 45,
   "id": "41bfb8cd",
   "metadata": {},
   "outputs": [],
   "source": [
    "headers = {\n",
    "        'User-Agent': 'Mozilla/5.0 (Windows NT 10.0; Win64; x64) AppleWebKit/537.36 (KHTML, like Gecko) '\n",
    "                    'Chrome/101.0.4951.54 Safari/537.36',\n",
    "        'Connection': 'keep-alive',\n",
    "        'Referer': 'https://google.com',\n",
    "        'DNT': '1',\n",
    "        'Accept-Language': 'en-GB,en;q=0.5'\n",
    "    }"
   ]
  },
  {
   "cell_type": "code",
   "execution_count": 46,
   "id": "0f4a074c",
   "metadata": {},
   "outputs": [],
   "source": [
    "url=\"https://www.prisonpolicy.org/origin/ny/nta.html\""
   ]
  },
  {
   "cell_type": "code",
   "execution_count": 47,
   "id": "48a98b6e",
   "metadata": {},
   "outputs": [],
   "source": [
    "field_names = ['NTA','Areas']"
   ]
  },
  {
   "cell_type": "code",
   "execution_count": 48,
   "id": "f3ed030d",
   "metadata": {},
   "outputs": [],
   "source": [
    "nta_data = []"
   ]
  },
  {
   "cell_type": "code",
   "execution_count": 49,
   "id": "5e91adb8",
   "metadata": {},
   "outputs": [],
   "source": [
    "response = requests.get(url, headers=headers)\n",
    "if response.status_code == 200:\n",
    "    soup = BeautifulSoup(response.text,'html.parser')\n",
    "    rows = soup.find('table').find_all('tr')\n",
    "\n",
    "# Extract the desired fields for each row\n",
    "    for row in rows:\n",
    "        td_elements = row.find_all('td')\n",
    "    \n",
    "    # Check if there are at least 3 td elements in the row\n",
    "        if len(td_elements) >= 3:\n",
    "            second_td_content = td_elements[1].text\n",
    "            third_td_content = td_elements[2].text\n",
    "            nta_data.append([second_td_content, third_td_content])\n",
    "           \n",
    "            \n",
    "df = pd.DataFrame(nta_data, columns=field_names)\n",
    "df.to_csv('nta_data.csv',index=False)"
   ]
  }
 ],
 "metadata": {
  "kernelspec": {
   "display_name": "Python 3 (ipykernel)",
   "language": "python",
   "name": "python3"
  },
  "language_info": {
   "codemirror_mode": {
    "name": "ipython",
    "version": 3
   },
   "file_extension": ".py",
   "mimetype": "text/x-python",
   "name": "python",
   "nbconvert_exporter": "python",
   "pygments_lexer": "ipython3",
   "version": "3.10.9"
  }
 },
 "nbformat": 4,
 "nbformat_minor": 5
}
